{
  "cells": [
    {
      "cell_type": "code",
      "execution_count": 1,
      "metadata": {},
      "outputs": [],
      "source": [
        "import pandas as pd\n",
        "df = pd.read_csv('../data/train.csv')"
      ]
    },
    {
      "cell_type": "code",
      "execution_count": 2,
      "metadata": {},
      "outputs": [],
      "source": [
        "def preprocess(df: pd.DataFrame) -> pd.DataFrame:\n",
        "    res = df.copy()\n",
        "    res[\"clean_title\"] = res[\"clean_title\"].fillna(\"NaN\")\n",
        "    res[\"is.clean_title\"] = res[\"clean_title\"] == \"Yes\"\n",
        "    res[\"age\"] = (2024 - res[\"model_year\"]).map(lambda x: max(x, 1))\n",
        "    res[\"milage_per_year\"] = res[\"milage\"] / res[\"age\"]\n",
        "    res[\"had_accident\"] = res[\"accident\"] == \"At least 1 accident or damage reported\"\n",
        "    res[\"avg_price\"] =  res.groupby(['brand', 'model'])['price'].transform('mean')\n",
        "    res[\"model_year\"] = res[\"model_year\"]\n",
        "    return res"
      ]
    },
    {
      "cell_type": "code",
      "execution_count": 3,
      "metadata": {},
      "outputs": [],
      "source": [
        "from sklearn.model_selection import train_test_split\n",
        "preprocessed = preprocess(df)\n",
        "train, val = train_test_split(preprocessed, test_size = 0.3, random_state = 42)"
      ]
    },
    {
      "cell_type": "code",
      "execution_count": 4,
      "metadata": {},
      "outputs": [],
      "source": [
        "def get_avg_price_from_brand_model(df: pd.DataFrame) -> dict:\n",
        "    return df.groupby(['brand', 'model'])['avg_price'].mean().to_dict()\n",
        "\n",
        "def get_avg_price_from_brand(df: pd.DataFrame) -> dict:\n",
        "    return df.groupby('brand')['avg_price'].mean().to_dict()"
      ]
    },
    {
      "cell_type": "code",
      "execution_count": 5,
      "metadata": {},
      "outputs": [],
      "source": [
        "avg_price_from_brand_model = get_avg_price_from_brand_model(preprocessed)\n",
        "\n",
        "avg_price_from_brand = get_avg_price_from_brand(preprocessed)"
      ]
    },
    {
      "cell_type": "code",
      "execution_count": 6,
      "metadata": {},
      "outputs": [],
      "source": [
        "test = pd.read_csv('../data/test.csv')"
      ]
    },
    {
      "cell_type": "code",
      "execution_count": 7,
      "metadata": {},
      "outputs": [],
      "source": [
        "def retrieve_value(brand: str, model: str, from_brand_model: dict, from_brand: dict) -> float:\n",
        "    \"\"\"\n",
        "    Retrieve a value from `avg_price` dictionary using `brand` and `model` as keys.\n",
        "    If `model` is not found in the dictionary, use `brand` to retrieve the value.\n",
        "    If `brand` key is not found, return None.\n",
        "    \"\"\"\n",
        "    if (brand, model) in from_brand_model:\n",
        "        return from_brand_model[(brand, model)]\n",
        "    if brand in from_brand:\n",
        "        return from_brand[brand]\n",
        "\n",
        "    return None"
      ]
    },
    {
      "cell_type": "code",
      "execution_count": 8,
      "metadata": {},
      "outputs": [],
      "source": [
        "test['avg_price'] = test.apply(lambda x: retrieve_value(x['brand'], x['model'], avg_price_from_brand_model, avg_price_from_brand), axis=1)"
      ]
    },
    {
      "cell_type": "code",
      "execution_count": 9,
      "metadata": {},
      "outputs": [
        {
          "data": {
            "text/plain": [
              "np.float64(0.0)"
            ]
          },
          "execution_count": 9,
          "metadata": {},
          "output_type": "execute_result"
        }
      ],
      "source": [
        "test['avg_price'].isnull().sum() / len(test)"
      ]
    },
    {
      "cell_type": "code",
      "execution_count": 14,
      "metadata": {},
      "outputs": [],
      "source": [
        "X_train = train[[\"is.clean_title\", \"milage_per_year\", \"had_accident\", \"avg_price\", \"model_year\"]]\n",
        "y_train = train[\"price\"]\n",
        "\n",
        "X_val = val[[\"is.clean_title\", \"milage_per_year\", \"had_accident\", \"avg_price\", \"model_year\"]]\n",
        "y_val = val[\"price\"]"
      ]
    },
    {
      "cell_type": "markdown",
      "metadata": {},
      "source": [
        "## Use MLFlow"
      ]
    },
    {
      "cell_type": "code",
      "execution_count": 16,
      "metadata": {},
      "outputs": [],
      "source": [
        "from sklearn.ensemble import RandomForestRegressor\n",
        "\n",
        "import mlflow\n",
        "\n",
        "import numpy as np\n",
        "from sklearn.metrics import mean_squared_error\n"
      ]
    },
    {
      "cell_type": "code",
      "execution_count": 38,
      "metadata": {},
      "outputs": [
        {
          "name": "stderr",
          "output_type": "stream",
          "text": [
            "2024/09/10 18:20:36 WARNING mlflow.models.model: Model logged without a signature and input example. Please set `input_example` parameter when logging the model to auto infer the model signature.\n",
            "2024/09/10 18:20:36 INFO mlflow.tracking._tracking_service.client: 🏃 View run 20240910-182032-10-5 at: http://127.0.0.1:5000/#/experiments/728286377558395095/runs/74da2ac63a2349c0b863ba74a9fb269a.\n",
            "2024/09/10 18:20:36 INFO mlflow.tracking._tracking_service.client: 🧪 View experiment at: http://127.0.0.1:5000/#/experiments/728286377558395095.\n",
            "2024/09/10 18:20:41 WARNING mlflow.models.model: Model logged without a signature and input example. Please set `input_example` parameter when logging the model to auto infer the model signature.\n",
            "2024/09/10 18:20:41 INFO mlflow.tracking._tracking_service.client: 🏃 View run 20240910-182036-10-10 at: http://127.0.0.1:5000/#/experiments/728286377558395095/runs/e4636783ca164813aae68eadebc6b723.\n",
            "2024/09/10 18:20:41 INFO mlflow.tracking._tracking_service.client: 🧪 View experiment at: http://127.0.0.1:5000/#/experiments/728286377558395095.\n",
            "2024/09/10 18:20:49 WARNING mlflow.models.model: Model logged without a signature and input example. Please set `input_example` parameter when logging the model to auto infer the model signature.\n",
            "2024/09/10 18:20:49 INFO mlflow.tracking._tracking_service.client: 🏃 View run 20240910-182041-10-20 at: http://127.0.0.1:5000/#/experiments/728286377558395095/runs/f0224850a2c9448f8334d63b90577d79.\n",
            "2024/09/10 18:20:49 INFO mlflow.tracking._tracking_service.client: 🧪 View experiment at: http://127.0.0.1:5000/#/experiments/728286377558395095.\n",
            "2024/09/10 18:20:57 WARNING mlflow.models.model: Model logged without a signature and input example. Please set `input_example` parameter when logging the model to auto infer the model signature.\n",
            "2024/09/10 18:20:58 INFO mlflow.tracking._tracking_service.client: 🏃 View run 20240910-182049-10-30 at: http://127.0.0.1:5000/#/experiments/728286377558395095/runs/68fab4383d294a31881be0f9fb5567f1.\n",
            "2024/09/10 18:20:58 INFO mlflow.tracking._tracking_service.client: 🧪 View experiment at: http://127.0.0.1:5000/#/experiments/728286377558395095.\n",
            "2024/09/10 18:21:06 WARNING mlflow.models.model: Model logged without a signature and input example. Please set `input_example` parameter when logging the model to auto infer the model signature.\n",
            "2024/09/10 18:21:06 INFO mlflow.tracking._tracking_service.client: 🏃 View run 20240910-182058-50-5 at: http://127.0.0.1:5000/#/experiments/728286377558395095/runs/213d277c294a43af868cc8074f22a0b0.\n",
            "2024/09/10 18:21:06 INFO mlflow.tracking._tracking_service.client: 🧪 View experiment at: http://127.0.0.1:5000/#/experiments/728286377558395095.\n",
            "2024/09/10 18:21:18 WARNING mlflow.models.model: Model logged without a signature and input example. Please set `input_example` parameter when logging the model to auto infer the model signature.\n",
            "2024/09/10 18:21:18 INFO mlflow.tracking._tracking_service.client: 🏃 View run 20240910-182106-50-10 at: http://127.0.0.1:5000/#/experiments/728286377558395095/runs/3f9d87b96e394da887552b1f977de6da.\n",
            "2024/09/10 18:21:18 INFO mlflow.tracking._tracking_service.client: 🧪 View experiment at: http://127.0.0.1:5000/#/experiments/728286377558395095.\n",
            "2024/09/10 18:21:39 WARNING mlflow.models.model: Model logged without a signature and input example. Please set `input_example` parameter when logging the model to auto infer the model signature.\n",
            "2024/09/10 18:21:41 INFO mlflow.tracking._tracking_service.client: 🏃 View run 20240910-182118-50-20 at: http://127.0.0.1:5000/#/experiments/728286377558395095/runs/1dde02370ffc4c318453f138d6171c71.\n",
            "2024/09/10 18:21:41 INFO mlflow.tracking._tracking_service.client: 🧪 View experiment at: http://127.0.0.1:5000/#/experiments/728286377558395095.\n",
            "2024/09/10 18:22:13 WARNING mlflow.models.model: Model logged without a signature and input example. Please set `input_example` parameter when logging the model to auto infer the model signature.\n",
            "2024/09/10 18:22:17 INFO mlflow.tracking._tracking_service.client: 🏃 View run 20240910-182141-50-30 at: http://127.0.0.1:5000/#/experiments/728286377558395095/runs/aff518bd45754a3f8f04f6f04629f84e.\n",
            "2024/09/10 18:22:17 INFO mlflow.tracking._tracking_service.client: 🧪 View experiment at: http://127.0.0.1:5000/#/experiments/728286377558395095.\n",
            "2024/09/10 18:22:31 WARNING mlflow.models.model: Model logged without a signature and input example. Please set `input_example` parameter when logging the model to auto infer the model signature.\n",
            "2024/09/10 18:22:31 INFO mlflow.tracking._tracking_service.client: 🏃 View run 20240910-182217-100-5 at: http://127.0.0.1:5000/#/experiments/728286377558395095/runs/64db74703e28456283b0534d7615059c.\n",
            "2024/09/10 18:22:31 INFO mlflow.tracking._tracking_service.client: 🧪 View experiment at: http://127.0.0.1:5000/#/experiments/728286377558395095.\n",
            "2024/09/10 18:22:55 WARNING mlflow.models.model: Model logged without a signature and input example. Please set `input_example` parameter when logging the model to auto infer the model signature.\n",
            "2024/09/10 18:22:55 INFO mlflow.tracking._tracking_service.client: 🏃 View run 20240910-182231-100-10 at: http://127.0.0.1:5000/#/experiments/728286377558395095/runs/6207c2ddee6343eebf26eecf3f03fbb6.\n",
            "2024/09/10 18:22:55 INFO mlflow.tracking._tracking_service.client: 🧪 View experiment at: http://127.0.0.1:5000/#/experiments/728286377558395095.\n",
            "2024/09/10 18:23:39 WARNING mlflow.models.model: Model logged without a signature and input example. Please set `input_example` parameter when logging the model to auto infer the model signature.\n",
            "2024/09/10 18:23:43 INFO mlflow.tracking._tracking_service.client: 🏃 View run 20240910-182255-100-20 at: http://127.0.0.1:5000/#/experiments/728286377558395095/runs/0427c3135671429bae5088695d8aeda4.\n",
            "2024/09/10 18:23:43 INFO mlflow.tracking._tracking_service.client: 🧪 View experiment at: http://127.0.0.1:5000/#/experiments/728286377558395095.\n",
            "2024/09/10 18:24:31 WARNING mlflow.models.model: Model logged without a signature and input example. Please set `input_example` parameter when logging the model to auto infer the model signature.\n",
            "2024/09/10 18:24:38 INFO mlflow.tracking._tracking_service.client: 🏃 View run 20240910-182343-100-30 at: http://127.0.0.1:5000/#/experiments/728286377558395095/runs/e4cd9244e98e456b8d1d6fd3015f2bac.\n",
            "2024/09/10 18:24:38 INFO mlflow.tracking._tracking_service.client: 🧪 View experiment at: http://127.0.0.1:5000/#/experiments/728286377558395095.\n",
            "2024/09/10 18:25:05 WARNING mlflow.models.model: Model logged without a signature and input example. Please set `input_example` parameter when logging the model to auto infer the model signature.\n",
            "2024/09/10 18:25:05 INFO mlflow.tracking._tracking_service.client: 🏃 View run 20240910-182438-200-5 at: http://127.0.0.1:5000/#/experiments/728286377558395095/runs/65aa97b664df4699a645b96ad6c9695f.\n",
            "2024/09/10 18:25:05 INFO mlflow.tracking._tracking_service.client: 🧪 View experiment at: http://127.0.0.1:5000/#/experiments/728286377558395095.\n",
            "2024/09/10 18:25:50 WARNING mlflow.models.model: Model logged without a signature and input example. Please set `input_example` parameter when logging the model to auto infer the model signature.\n",
            "2024/09/10 18:25:50 INFO mlflow.tracking._tracking_service.client: 🏃 View run 20240910-182505-200-10 at: http://127.0.0.1:5000/#/experiments/728286377558395095/runs/7b763587d81a4175b22ce451de159b61.\n",
            "2024/09/10 18:25:50 INFO mlflow.tracking._tracking_service.client: 🧪 View experiment at: http://127.0.0.1:5000/#/experiments/728286377558395095.\n",
            "2024/09/10 18:27:11 WARNING mlflow.models.model: Model logged without a signature and input example. Please set `input_example` parameter when logging the model to auto infer the model signature.\n",
            "2024/09/10 18:27:22 INFO mlflow.tracking._tracking_service.client: 🏃 View run 20240910-182550-200-20 at: http://127.0.0.1:5000/#/experiments/728286377558395095/runs/f90781f75f2e4096afce1e6f0b4802c3.\n",
            "2024/09/10 18:27:22 INFO mlflow.tracking._tracking_service.client: 🧪 View experiment at: http://127.0.0.1:5000/#/experiments/728286377558395095.\n",
            "2024/09/10 18:29:02 WARNING mlflow.models.model: Model logged without a signature and input example. Please set `input_example` parameter when logging the model to auto infer the model signature.\n",
            "2024/09/10 18:29:18 INFO mlflow.tracking._tracking_service.client: 🏃 View run 20240910-182722-200-30 at: http://127.0.0.1:5000/#/experiments/728286377558395095/runs/cf29c899d1d843c19340d945c21c94fb.\n",
            "2024/09/10 18:29:18 INFO mlflow.tracking._tracking_service.client: 🧪 View experiment at: http://127.0.0.1:5000/#/experiments/728286377558395095.\n"
          ]
        }
      ],
      "source": [
        "import time\n",
        "\n",
        "n_estimators_list = [10, 50, 100, 200]\n",
        "max_depth_list = [5, 10, 20, 30]\n",
        "\n",
        "mlflow.set_tracking_uri('http://127.0.0.1:5000')\n",
        "mlflow.set_experiment('random-forest')\n",
        "\n",
        "\n",
        "for n_estimators in n_estimators_list:\n",
        "    for max_depth in max_depth_list:\n",
        "        with mlflow.start_run(nested=True, run_name=f'{time.strftime(\"%Y%m%d-%H%M%S\")}-{n_estimators}-{max_depth}') as run:\n",
        "            forest = RandomForestRegressor(\n",
        "                n_estimators=n_estimators,\n",
        "                random_state=42,\n",
        "                criterion='squared_error',\n",
        "                max_depth=max_depth,\n",
        "            )\n",
        "            forest.fit(X_train, y_train)\n",
        "            y_pred = forest.predict(X_val)\n",
        "\n",
        "            mlflow.log_params({\n",
        "                \"n_estimators\": n_estimators,\n",
        "                \"max_depth\": max_depth,\n",
        "            })\n",
        "\n",
        "            mlflow.log_metrics({\n",
        "                \"val_rmse\": np.sqrt(mean_squared_error(y_val, y_pred)),\n",
        "            })\n",
        "\n",
        "            mlflow.sklearn.log_model(forest, f\"random-forest-{n_estimators}-{max_depth}\")"
      ]
    }
  ],
  "metadata": {
    "kernelspec": {
      "display_name": ".venv",
      "language": "python",
      "name": "python3"
    },
    "language_info": {
      "codemirror_mode": {
        "name": "ipython",
        "version": 3
      },
      "file_extension": ".py",
      "mimetype": "text/x-python",
      "name": "python",
      "nbconvert_exporter": "python",
      "pygments_lexer": "ipython3",
      "version": "3.9.1"
    }
  },
  "nbformat": 4,
  "nbformat_minor": 2
}
