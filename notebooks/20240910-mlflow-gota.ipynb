{
  "cells": [
    {
      "cell_type": "code",
      "execution_count": 1,
      "metadata": {},
      "outputs": [],
      "source": [
        "import pandas as pd\n",
        "df = pd.read_csv('../data/train.csv')"
      ]
    },
    {
      "cell_type": "code",
      "execution_count": 2,
      "metadata": {},
      "outputs": [],
      "source": [
        "def preprocess(df: pd.DataFrame) -> pd.DataFrame:\n",
        "    res = df.copy()\n",
        "    res[\"clean_title\"] = res[\"clean_title\"].fillna(\"NaN\")\n",
        "    res[\"is.clean_title\"] = res[\"clean_title\"] == \"Yes\"\n",
        "    res[\"age\"] = (2024 - res[\"model_year\"]).map(lambda x: max(x, 1))\n",
        "    res[\"milage_per_year\"] = res[\"milage\"] / res[\"age\"]\n",
        "    res[\"had_accident\"] = res[\"accident\"] == \"At least 1 accident or damage reported\"\n",
        "    res[\"avg_price\"] =  res.groupby(['brand', 'model'])['price'].transform('mean')\n",
        "    res[\"model_year\"] = res[\"model_year\"]\n",
        "    return res"
      ]
    },
    {
      "cell_type": "code",
      "execution_count": 3,
      "metadata": {},
      "outputs": [],
      "source": [
        "from sklearn.model_selection import train_test_split\n",
        "preprocessed = preprocess(df)\n",
        "train, val = train_test_split(preprocessed, test_size = 0.3, random_state = 42)"
      ]
    },
    {
      "cell_type": "code",
      "execution_count": 4,
      "metadata": {},
      "outputs": [],
      "source": [
        "def get_avg_price_from_brand_model(df: pd.DataFrame) -> dict:\n",
        "    return df.groupby(['brand', 'model'])['avg_price'].mean().to_dict()\n",
        "\n",
        "def get_avg_price_from_brand(df: pd.DataFrame) -> dict:\n",
        "    return df.groupby('brand')['avg_price'].mean().to_dict()"
      ]
    },
    {
      "cell_type": "code",
      "execution_count": 5,
      "metadata": {},
      "outputs": [],
      "source": [
        "avg_price_from_brand_model = get_avg_price_from_brand_model(preprocessed)\n",
        "\n",
        "avg_price_from_brand = get_avg_price_from_brand(preprocessed)"
      ]
    },
    {
      "cell_type": "code",
      "execution_count": 6,
      "metadata": {},
      "outputs": [],
      "source": [
        "test = pd.read_csv('../data/test.csv')"
      ]
    },
    {
      "cell_type": "code",
      "execution_count": 7,
      "metadata": {},
      "outputs": [],
      "source": [
        "def retrieve_value(brand: str, model: str, from_brand_model: dict, from_brand: dict) -> float:\n",
        "    \"\"\"\n",
        "    Retrieve a value from `avg_price` dictionary using `brand` and `model` as keys.\n",
        "    If `model` is not found in the dictionary, use `brand` to retrieve the value.\n",
        "    If `brand` key is not found, return None.\n",
        "    \"\"\"\n",
        "    if (brand, model) in from_brand_model:\n",
        "        return from_brand_model[(brand, model)]\n",
        "    if brand in from_brand:\n",
        "        return from_brand[brand]\n",
        "\n",
        "    return None"
      ]
    },
    {
      "cell_type": "code",
      "execution_count": 8,
      "metadata": {},
      "outputs": [],
      "source": [
        "test['avg_price'] = test.apply(lambda x: retrieve_value(x['brand'], x['model'], avg_price_from_brand_model, avg_price_from_brand), axis=1)"
      ]
    },
    {
      "cell_type": "code",
      "execution_count": 9,
      "metadata": {},
      "outputs": [
        {
          "data": {
            "text/plain": [
              "np.float64(0.0)"
            ]
          },
          "execution_count": 9,
          "metadata": {},
          "output_type": "execute_result"
        }
      ],
      "source": [
        "test['avg_price'].isnull().sum() / len(test)"
      ]
    },
    {
      "cell_type": "code",
      "execution_count": 14,
      "metadata": {},
      "outputs": [],
      "source": [
        "X_train = train[[\"is.clean_title\", \"milage_per_year\", \"had_accident\", \"avg_price\", \"model_year\"]]\n",
        "y_train = train[\"price\"]\n",
        "\n",
        "X_val = val[[\"is.clean_title\", \"milage_per_year\", \"had_accident\", \"avg_price\", \"model_year\"]]\n",
        "y_val = val[\"price\"]"
      ]
    },
    {
      "cell_type": "markdown",
      "metadata": {},
      "source": [
        "## Use MLFlow"
      ]
    },
    {
      "cell_type": "code",
      "execution_count": 16,
      "metadata": {},
      "outputs": [],
      "source": [
        "from sklearn.ensemble import RandomForestRegressor\n",
        "\n",
        "import mlflow\n",
        "\n",
        "import numpy as np\n",
        "from sklearn.metrics import mean_squared_error\n"
      ]
    },
    {
      "cell_type": "code",
      "execution_count": 29,
      "metadata": {},
      "outputs": [
        {
          "data": {
            "text/plain": [
              "'115190836051961817'"
            ]
          },
          "execution_count": 29,
          "metadata": {},
          "output_type": "execute_result"
        }
      ],
      "source": [
        "experiment_id"
      ]
    },
    {
      "cell_type": "code",
      "execution_count": 35,
      "metadata": {},
      "outputs": [
        {
          "name": "stderr",
          "output_type": "stream",
          "text": [
            "2024/09/10 18:15:34 WARNING mlflow.models.model: Model logged without a signature and input example. Please set `input_example` parameter when logging the model to auto infer the model signature.\n",
            "2024/09/10 18:15:34 INFO mlflow.tracking._tracking_service.client: 🏃 View run 20240910_181530 at: http://127.0.0.1:5000/#/experiments/728286377558395095/runs/0a20c46930bb411e95a9ab8cfa52c6c8.\n",
            "2024/09/10 18:15:34 INFO mlflow.tracking._tracking_service.client: 🧪 View experiment at: http://127.0.0.1:5000/#/experiments/728286377558395095.\n",
            "2024/09/10 18:15:44 WARNING mlflow.models.model: Model logged without a signature and input example. Please set `input_example` parameter when logging the model to auto infer the model signature.\n",
            "2024/09/10 18:15:44 INFO mlflow.tracking._tracking_service.client: 🏃 View run 20240910_181534 at: http://127.0.0.1:5000/#/experiments/728286377558395095/runs/efd483f37a4f452a98f551c7756c8cb5.\n",
            "2024/09/10 18:15:44 INFO mlflow.tracking._tracking_service.client: 🧪 View experiment at: http://127.0.0.1:5000/#/experiments/728286377558395095.\n"
          ]
        }
      ],
      "source": [
        "import time\n",
        "\n",
        "n_estimators_list = [10, 50]\n",
        "max_depth_list = [5]\n",
        "\n",
        "mlflow.set_tracking_uri('http://127.0.0.1:5000')\n",
        "mlflow.set_experiment('random-forest')\n",
        "\n",
        "\n",
        "for n_estimators in n_estimators_list:\n",
        "    for max_depth in max_depth_list:\n",
        "        with mlflow.start_run(nested=True, run_name=f'{time.strftime(\"%Y%m%d-%H%M%S\")}-{n_estimators}-{max_depth}') as run:\n",
        "            forest = RandomForestRegressor(\n",
        "                n_estimators=n_estimators,\n",
        "                random_state=42,\n",
        "                criterion='squared_error',\n",
        "                max_depth=max_depth,\n",
        "            )\n",
        "            forest.fit(X_train, y_train)\n",
        "            y_pred = forest.predict(X_val)\n",
        "\n",
        "            mlflow.log_params({\n",
        "                \"n_estimators\": n_estimators,\n",
        "                \"max_depth\": max_depth,\n",
        "            })\n",
        "\n",
        "            mlflow.log_metrics({\n",
        "                \"train_mse\": np.sqrt(mean_squared_error(y_val, y_pred)),\n",
        "            })\n",
        "\n",
        "            mlflow.sklearn.log_model(forest, f\"random-forest-{n_estimators}-{max_depth}\")"
      ]
    },
    {
      "cell_type": "code",
      "execution_count": 18,
      "metadata": {},
      "outputs": [
        {
          "data": {
            "text/html": [
              "<div>\n",
              "<style scoped>\n",
              "    .dataframe tbody tr th:only-of-type {\n",
              "        vertical-align: middle;\n",
              "    }\n",
              "\n",
              "    .dataframe tbody tr th {\n",
              "        vertical-align: top;\n",
              "    }\n",
              "\n",
              "    .dataframe thead th {\n",
              "        text-align: right;\n",
              "    }\n",
              "</style>\n",
              "<table border=\"1\" class=\"dataframe\">\n",
              "  <thead>\n",
              "    <tr style=\"text-align: right;\">\n",
              "      <th></th>\n",
              "      <th>y_val</th>\n",
              "      <th>y_pred</th>\n",
              "      <th>diff</th>\n",
              "    </tr>\n",
              "  </thead>\n",
              "  <tbody>\n",
              "    <tr>\n",
              "      <th>111355</th>\n",
              "      <td>37999</td>\n",
              "      <td>35211.280000</td>\n",
              "      <td>2787.720000</td>\n",
              "    </tr>\n",
              "    <tr>\n",
              "      <th>182258</th>\n",
              "      <td>30000</td>\n",
              "      <td>32321.300667</td>\n",
              "      <td>-2321.300667</td>\n",
              "    </tr>\n",
              "    <tr>\n",
              "      <th>14147</th>\n",
              "      <td>26772</td>\n",
              "      <td>44324.573452</td>\n",
              "      <td>-17552.573452</td>\n",
              "    </tr>\n",
              "    <tr>\n",
              "      <th>79313</th>\n",
              "      <td>24999</td>\n",
              "      <td>20533.440000</td>\n",
              "      <td>4465.560000</td>\n",
              "    </tr>\n",
              "    <tr>\n",
              "      <th>101160</th>\n",
              "      <td>47995</td>\n",
              "      <td>32936.563333</td>\n",
              "      <td>15058.436667</td>\n",
              "    </tr>\n",
              "    <tr>\n",
              "      <th>...</th>\n",
              "      <td>...</td>\n",
              "      <td>...</td>\n",
              "      <td>...</td>\n",
              "    </tr>\n",
              "    <tr>\n",
              "      <th>95824</th>\n",
              "      <td>26500</td>\n",
              "      <td>38369.716667</td>\n",
              "      <td>-11869.716667</td>\n",
              "    </tr>\n",
              "    <tr>\n",
              "      <th>183599</th>\n",
              "      <td>54500</td>\n",
              "      <td>47203.700833</td>\n",
              "      <td>7296.299167</td>\n",
              "    </tr>\n",
              "    <tr>\n",
              "      <th>10343</th>\n",
              "      <td>10000</td>\n",
              "      <td>12931.540000</td>\n",
              "      <td>-2931.540000</td>\n",
              "    </tr>\n",
              "    <tr>\n",
              "      <th>76346</th>\n",
              "      <td>22989</td>\n",
              "      <td>27017.230000</td>\n",
              "      <td>-4028.230000</td>\n",
              "    </tr>\n",
              "    <tr>\n",
              "      <th>28898</th>\n",
              "      <td>12700</td>\n",
              "      <td>11813.985000</td>\n",
              "      <td>886.015000</td>\n",
              "    </tr>\n",
              "  </tbody>\n",
              "</table>\n",
              "<p>56560 rows × 3 columns</p>\n",
              "</div>"
            ],
            "text/plain": [
              "        y_val        y_pred          diff\n",
              "111355  37999  35211.280000   2787.720000\n",
              "182258  30000  32321.300667  -2321.300667\n",
              "14147   26772  44324.573452 -17552.573452\n",
              "79313   24999  20533.440000   4465.560000\n",
              "101160  47995  32936.563333  15058.436667\n",
              "...       ...           ...           ...\n",
              "95824   26500  38369.716667 -11869.716667\n",
              "183599  54500  47203.700833   7296.299167\n",
              "10343   10000  12931.540000  -2931.540000\n",
              "76346   22989  27017.230000  -4028.230000\n",
              "28898   12700  11813.985000    886.015000\n",
              "\n",
              "[56560 rows x 3 columns]"
            ]
          },
          "execution_count": 18,
          "metadata": {},
          "output_type": "execute_result"
        }
      ],
      "source": [
        "result = pd.DataFrame({\"y_val\": y_val, \"y_pred\": y_pred})\n",
        "result[\"diff\"] = result[\"y_val\"] - result[\"y_pred\"]\n",
        "result"
      ]
    },
    {
      "cell_type": "markdown",
      "metadata": {},
      "source": [
        "# Submission"
      ]
    },
    {
      "cell_type": "code",
      "execution_count": 22,
      "metadata": {},
      "outputs": [],
      "source": [
        "def preprocess_test(df: pd.DataFrame) -> pd.DataFrame:\n",
        "    res = df.copy()\n",
        "    res[\"clean_title\"] = res[\"clean_title\"].fillna(\"NaN\")\n",
        "    res[\"is.clean_title\"] = res[\"clean_title\"] == \"Yes\"\n",
        "    res[\"age\"] = (2024 - res[\"model_year\"]).map(lambda x: max(x, 1))\n",
        "    res[\"milage_per_year\"] = res[\"milage\"] / res[\"age\"]\n",
        "    res[\"had_accident\"] = res[\"accident\"] == \"At least 1 accident or damage reported\"\n",
        "    res[\"model_year\"] = res[\"model_year\"]\n",
        "    return res"
      ]
    },
    {
      "cell_type": "code",
      "execution_count": 23,
      "metadata": {},
      "outputs": [],
      "source": [
        "test_preprocessed = preprocess_test(test)"
      ]
    },
    {
      "cell_type": "code",
      "execution_count": 26,
      "metadata": {},
      "outputs": [],
      "source": [
        "X_test = test_preprocessed[[\"is.clean_title\", \"milage_per_year\", \"had_accident\", \"avg_price\", \"model_year\"]]"
      ]
    },
    {
      "cell_type": "code",
      "execution_count": 27,
      "metadata": {},
      "outputs": [],
      "source": [
        "y_submit = forest.predict(X_test)"
      ]
    },
    {
      "cell_type": "code",
      "execution_count": 28,
      "metadata": {},
      "outputs": [],
      "source": [
        "test[\"price\"] = y_submit"
      ]
    },
    {
      "cell_type": "code",
      "execution_count": 29,
      "metadata": {},
      "outputs": [],
      "source": [
        "test[[\"id\", \"price\"]].to_csv(\"../submission/20240910-random-forest.csv\", index = False)\n"
      ]
    }
  ],
  "metadata": {
    "kernelspec": {
      "display_name": ".venv",
      "language": "python",
      "name": "python3"
    },
    "language_info": {
      "codemirror_mode": {
        "name": "ipython",
        "version": 3
      },
      "file_extension": ".py",
      "mimetype": "text/x-python",
      "name": "python",
      "nbconvert_exporter": "python",
      "pygments_lexer": "ipython3",
      "version": "3.9.1"
    }
  },
  "nbformat": 4,
  "nbformat_minor": 2
}
