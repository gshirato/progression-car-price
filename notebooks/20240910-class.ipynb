{
 "cells": [
  {
   "cell_type": "code",
   "execution_count": 55,
   "metadata": {},
   "outputs": [
    {
     "name": "stdout",
     "output_type": "stream",
     "text": [
      "The autoreload extension is already loaded. To reload it, use:\n",
      "  %reload_ext autoreload\n"
     ]
    }
   ],
   "source": [
    "%load_ext autoreload\n",
    "%autoreload 2\n",
    "\n",
    "root_dir = '../'\n",
    "\n",
    "import os\n",
    "import sys\n",
    "sys.path.append(os.path.join(root_dir, 'src'))"
   ]
  },
  {
   "cell_type": "code",
   "execution_count": 67,
   "metadata": {},
   "outputs": [],
   "source": [
    "from dataframe.train import TrainPreprocessor"
   ]
  },
  {
   "cell_type": "code",
   "execution_count": 68,
   "metadata": {},
   "outputs": [],
   "source": [
    "import pandas as pd\n",
    "df = pd.read_csv('../data/train.csv')"
   ]
  },
  {
   "cell_type": "code",
   "execution_count": 69,
   "metadata": {},
   "outputs": [],
   "source": [
    "train_preprocessed = TrainPreprocessor(df)"
   ]
  },
  {
   "cell_type": "code",
   "execution_count": 59,
   "metadata": {},
   "outputs": [],
   "source": [
    "from dataframe.test import TestPreprocessor"
   ]
  },
  {
   "cell_type": "code",
   "execution_count": 60,
   "metadata": {},
   "outputs": [],
   "source": [
    "test = pd.read_csv('../data/test.csv')"
   ]
  },
  {
   "cell_type": "code",
   "execution_count": 72,
   "metadata": {},
   "outputs": [],
   "source": [
    "test_preprocessor = TestPreprocessor(test, train_preprocessed.processed)"
   ]
  },
  {
   "cell_type": "code",
   "execution_count": 74,
   "metadata": {},
   "outputs": [
    {
     "data": {
      "text/html": [
       "<div>\n",
       "<style scoped>\n",
       "    .dataframe tbody tr th:only-of-type {\n",
       "        vertical-align: middle;\n",
       "    }\n",
       "\n",
       "    .dataframe tbody tr th {\n",
       "        vertical-align: top;\n",
       "    }\n",
       "\n",
       "    .dataframe thead th {\n",
       "        text-align: right;\n",
       "    }\n",
       "</style>\n",
       "<table border=\"1\" class=\"dataframe\">\n",
       "  <thead>\n",
       "    <tr style=\"text-align: right;\">\n",
       "      <th></th>\n",
       "      <th>is.clean_title</th>\n",
       "      <th>milage_per_year</th>\n",
       "      <th>had_accident</th>\n",
       "      <th>avg_price</th>\n",
       "      <th>model_year</th>\n",
       "    </tr>\n",
       "  </thead>\n",
       "  <tbody>\n",
       "    <tr>\n",
       "      <th>0</th>\n",
       "      <td>True</td>\n",
       "      <td>10888.888889</td>\n",
       "      <td>False</td>\n",
       "      <td>19582.380000</td>\n",
       "      <td>2015</td>\n",
       "    </tr>\n",
       "    <tr>\n",
       "      <th>1</th>\n",
       "      <td>True</td>\n",
       "      <td>2285.500000</td>\n",
       "      <td>False</td>\n",
       "      <td>74167.477612</td>\n",
       "      <td>2020</td>\n",
       "    </tr>\n",
       "    <tr>\n",
       "      <th>2</th>\n",
       "      <td>False</td>\n",
       "      <td>14060.500000</td>\n",
       "      <td>False</td>\n",
       "      <td>50420.818345</td>\n",
       "      <td>2022</td>\n",
       "    </tr>\n",
       "    <tr>\n",
       "      <th>3</th>\n",
       "      <td>False</td>\n",
       "      <td>7657.250000</td>\n",
       "      <td>False</td>\n",
       "      <td>28007.062500</td>\n",
       "      <td>2016</td>\n",
       "    </tr>\n",
       "    <tr>\n",
       "      <th>4</th>\n",
       "      <td>True</td>\n",
       "      <td>9833.333333</td>\n",
       "      <td>False</td>\n",
       "      <td>24829.909483</td>\n",
       "      <td>2018</td>\n",
       "    </tr>\n",
       "    <tr>\n",
       "      <th>...</th>\n",
       "      <td>...</td>\n",
       "      <td>...</td>\n",
       "      <td>...</td>\n",
       "      <td>...</td>\n",
       "      <td>...</td>\n",
       "    </tr>\n",
       "    <tr>\n",
       "      <th>125685</th>\n",
       "      <td>True</td>\n",
       "      <td>8331.500000</td>\n",
       "      <td>False</td>\n",
       "      <td>35665.622691</td>\n",
       "      <td>2014</td>\n",
       "    </tr>\n",
       "    <tr>\n",
       "      <th>125686</th>\n",
       "      <td>False</td>\n",
       "      <td>5867.200000</td>\n",
       "      <td>False</td>\n",
       "      <td>56878.435714</td>\n",
       "      <td>2019</td>\n",
       "    </tr>\n",
       "    <tr>\n",
       "      <th>125687</th>\n",
       "      <td>True</td>\n",
       "      <td>6469.500000</td>\n",
       "      <td>False</td>\n",
       "      <td>29365.696203</td>\n",
       "      <td>2012</td>\n",
       "    </tr>\n",
       "    <tr>\n",
       "      <th>125688</th>\n",
       "      <td>True</td>\n",
       "      <td>9333.333333</td>\n",
       "      <td>False</td>\n",
       "      <td>33872.352941</td>\n",
       "      <td>2012</td>\n",
       "    </tr>\n",
       "    <tr>\n",
       "      <th>125689</th>\n",
       "      <td>True</td>\n",
       "      <td>11140.000000</td>\n",
       "      <td>False</td>\n",
       "      <td>47562.113703</td>\n",
       "      <td>2018</td>\n",
       "    </tr>\n",
       "  </tbody>\n",
       "</table>\n",
       "<p>125690 rows × 5 columns</p>\n",
       "</div>"
      ],
      "text/plain": [
       "        is.clean_title  milage_per_year  had_accident     avg_price  \\\n",
       "0                 True     10888.888889         False  19582.380000   \n",
       "1                 True      2285.500000         False  74167.477612   \n",
       "2                False     14060.500000         False  50420.818345   \n",
       "3                False      7657.250000         False  28007.062500   \n",
       "4                 True      9833.333333         False  24829.909483   \n",
       "...                ...              ...           ...           ...   \n",
       "125685            True      8331.500000         False  35665.622691   \n",
       "125686           False      5867.200000         False  56878.435714   \n",
       "125687            True      6469.500000         False  29365.696203   \n",
       "125688            True      9333.333333         False  33872.352941   \n",
       "125689            True     11140.000000         False  47562.113703   \n",
       "\n",
       "        model_year  \n",
       "0             2015  \n",
       "1             2020  \n",
       "2             2022  \n",
       "3             2016  \n",
       "4             2018  \n",
       "...            ...  \n",
       "125685        2014  \n",
       "125686        2019  \n",
       "125687        2012  \n",
       "125688        2012  \n",
       "125689        2018  \n",
       "\n",
       "[125690 rows x 5 columns]"
      ]
     },
     "execution_count": 74,
     "metadata": {},
     "output_type": "execute_result"
    }
   ],
   "source": [
    "test_preprocessor.X()"
   ]
  },
  {
   "cell_type": "markdown",
   "metadata": {},
   "source": [
    "---"
   ]
  },
  {
   "cell_type": "code",
   "execution_count": 62,
   "metadata": {},
   "outputs": [],
   "source": [
    "class Human:\n",
    "    def __init__(self, name, age):\n",
    "        self.name = name\n",
    "        self.age = age\n",
    "\n",
    "    def introduce(self):\n",
    "        print(f'Hello, I am {self.name}. I am {self.age} years old.')\n",
    "\n",
    "    def birth_year(self):\n",
    "        return 2024 - self.age"
   ]
  },
  {
   "cell_type": "code",
   "execution_count": 35,
   "metadata": {},
   "outputs": [],
   "source": [
    "aki = Human('aki', 26)\n",
    "gota = Human('gota', 30)"
   ]
  },
  {
   "cell_type": "code",
   "execution_count": 36,
   "metadata": {},
   "outputs": [
    {
     "data": {
      "text/plain": [
       "('aki', 26, 1998)"
      ]
     },
     "execution_count": 36,
     "metadata": {},
     "output_type": "execute_result"
    }
   ],
   "source": [
    "aki.name, aki.age, aki.birth_year()"
   ]
  },
  {
   "cell_type": "code",
   "execution_count": 37,
   "metadata": {},
   "outputs": [
    {
     "data": {
      "text/plain": [
       "('gota', 30, 1994)"
      ]
     },
     "execution_count": 37,
     "metadata": {},
     "output_type": "execute_result"
    }
   ],
   "source": [
    "gota.name, gota.age, gota.birth_year()"
   ]
  },
  {
   "cell_type": "code",
   "execution_count": 38,
   "metadata": {},
   "outputs": [],
   "source": [
    "class FootballPlayer(Human):\n",
    "    def __init__(self, name, age, team):\n",
    "        super().__init__(name, age)\n",
    "        self.team = team\n",
    "\n",
    "    def show_team(self):\n",
    "        print(f\"I play for {self.team}.\")"
   ]
  },
  {
   "cell_type": "code",
   "execution_count": 39,
   "metadata": {},
   "outputs": [],
   "source": [
    "taka = FootballPlayer('taka', 25, 'FC Tokyo')"
   ]
  },
  {
   "cell_type": "code",
   "execution_count": 41,
   "metadata": {},
   "outputs": [
    {
     "name": "stdout",
     "output_type": "stream",
     "text": [
      "I play for FC Tokyo.\n"
     ]
    },
    {
     "data": {
      "text/plain": [
       "(None, 1999)"
      ]
     },
     "execution_count": 41,
     "metadata": {},
     "output_type": "execute_result"
    }
   ],
   "source": [
    "taka.show_team(), taka.birth_year()"
   ]
  },
  {
   "cell_type": "code",
   "execution_count": null,
   "metadata": {},
   "outputs": [],
   "source": []
  }
 ],
 "metadata": {
  "kernelspec": {
   "display_name": ".venv",
   "language": "python",
   "name": "python3"
  },
  "language_info": {
   "codemirror_mode": {
    "name": "ipython",
    "version": 3
   },
   "file_extension": ".py",
   "mimetype": "text/x-python",
   "name": "python",
   "nbconvert_exporter": "python",
   "pygments_lexer": "ipython3",
   "version": "3.9.1"
  }
 },
 "nbformat": 4,
 "nbformat_minor": 2
}
