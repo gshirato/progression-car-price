{
 "cells": [
  {
   "cell_type": "code",
   "execution_count": 1,
   "metadata": {},
   "outputs": [],
   "source": [
    "import pandas as pd\n",
    "df = pd.read_csv('../data/train.csv')"
   ]
  },
  {
   "cell_type": "code",
   "execution_count": 2,
   "metadata": {},
   "outputs": [],
   "source": [
    "def preprocess(df: pd.DataFrame) -> pd.DataFrame:\n",
    "    res = df.copy()\n",
    "    res[\"clean_title\"] = res[\"clean_title\"].fillna(\"NaN\")\n",
    "    res[\"is.clean_title\"] = res[\"clean_title\"] == \"Yes\"\n",
    "    res[\"age\"] = (2024 - res[\"model_year\"]).map(lambda x: max(x, 1))\n",
    "    res[\"milage_per_year\"] = res[\"milage\"] / res[\"age\"]\n",
    "    res[\"had_accident\"] = res[\"accident\"] == \"At least 1 accident or damage reported\"\n",
    "    res[\"avg_price\"] =  res.groupby(['brand', 'model'])['price'].transform('mean')\n",
    "    res[\"model_year\"] = res[\"model_year\"]\n",
    "    return res"
   ]
  },
  {
   "cell_type": "code",
   "execution_count": 3,
   "metadata": {},
   "outputs": [],
   "source": [
    "from sklearn.model_selection import train_test_split\n",
    "preprocessed = preprocess(df)\n",
    "train, val = train_test_split(preprocessed, test_size = 0.3, random_state = 42)"
   ]
  },
  {
   "cell_type": "code",
   "execution_count": 25,
   "metadata": {},
   "outputs": [],
   "source": [
    "def get_avg_price_from_brand_model(df: pd.DataFrame) -> dict:\n",
    "    return df.groupby(['brand', 'model'])['avg_price'].mean().to_dict()\n",
    "\n",
    "def get_avg_price_from_brand(df: pd.DataFrame) -> dict:\n",
    "    return df.groupby('brand')['avg_price'].mean().to_dict()"
   ]
  },
  {
   "cell_type": "code",
   "execution_count": 26,
   "metadata": {},
   "outputs": [],
   "source": [
    "avg_price_from_brand_model = get_avg_price_from_brand_model(preprocessed)\n",
    "\n",
    "avg_price_from_brand = get_avg_price_from_brand(preprocessed)"
   ]
  },
  {
   "cell_type": "code",
   "execution_count": 27,
   "metadata": {},
   "outputs": [],
   "source": [
    "test = pd.read_csv('../data/test.csv')"
   ]
  },
  {
   "cell_type": "code",
   "execution_count": 29,
   "metadata": {},
   "outputs": [],
   "source": [
    "def retrieve_value(brand: str, model: str, from_brand_model: dict, from_brand: dict) -> float:\n",
    "    \"\"\"\n",
    "    Retrieve a value from `avg_price` dictionary using `brand` and `model` as keys.\n",
    "    If `model` is not found in the dictionary, use `brand` to retrieve the value.\n",
    "    If `brand` key is not found, return None.\n",
    "    \"\"\"\n",
    "    if (brand, model) in from_brand_model:\n",
    "        return from_brand_model[(brand, model)]\n",
    "    if brand in from_brand:\n",
    "        return from_brand[brand]\n",
    "\n",
    "    return None"
   ]
  },
  {
   "cell_type": "code",
   "execution_count": 30,
   "metadata": {},
   "outputs": [],
   "source": [
    "test['avg_price'] = test.apply(lambda x: retrieve_value(x['brand'], x['model'], avg_price_from_brand_model, avg_price_from_brand), axis=1)"
   ]
  },
  {
   "cell_type": "code",
   "execution_count": 31,
   "metadata": {},
   "outputs": [
    {
     "data": {
      "text/plain": [
       "np.float64(0.0)"
      ]
     },
     "execution_count": 31,
     "metadata": {},
     "output_type": "execute_result"
    }
   ],
   "source": [
    "test['avg_price'].isnull().sum() / len(test)"
   ]
  },
  {
   "cell_type": "code",
   "execution_count": null,
   "metadata": {},
   "outputs": [],
   "source": []
  }
 ],
 "metadata": {
  "kernelspec": {
   "display_name": ".venv",
   "language": "python",
   "name": "python3"
  },
  "language_info": {
   "codemirror_mode": {
    "name": "ipython",
    "version": 3
   },
   "file_extension": ".py",
   "mimetype": "text/x-python",
   "name": "python",
   "nbconvert_exporter": "python",
   "pygments_lexer": "ipython3",
   "version": "3.9.1"
  }
 },
 "nbformat": 4,
 "nbformat_minor": 2
}
